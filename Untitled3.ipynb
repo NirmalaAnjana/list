{
 "cells": [
  {
   "cell_type": "code",
   "execution_count": 3,
   "id": "5045a2e2-9d72-4af7-a91b-e423e0daf2b7",
   "metadata": {},
   "outputs": [
    {
     "name": "stdout",
     "output_type": "stream",
     "text": [
      "nirmala anjana\n"
     ]
    }
   ],
   "source": [
    "print(\"nirmala anjana\")"
   ]
  },
  {
   "cell_type": "code",
   "execution_count": 4,
   "id": "ffa67b25-6c3d-47c8-93a9-7c2e48abfc13",
   "metadata": {},
   "outputs": [
    {
     "data": {
      "text/plain": [
       "5.0"
      ]
     },
     "execution_count": 4,
     "metadata": {},
     "output_type": "execute_result"
    }
   ],
   "source": [
    "25/5"
   ]
  },
  {
   "cell_type": "code",
   "execution_count": 5,
   "id": "510a8fa0-75e5-41c2-a572-11141afe94c8",
   "metadata": {},
   "outputs": [
    {
     "data": {
      "text/plain": [
       "20"
      ]
     },
     "execution_count": 5,
     "metadata": {},
     "output_type": "execute_result"
    }
   ],
   "source": [
    "65-45"
   ]
  },
  {
   "cell_type": "code",
   "execution_count": null,
   "id": "aa16ea5e-c05b-4b4f-ae6b-ccdf503947c0",
   "metadata": {},
   "outputs": [],
   "source": []
  }
 ],
 "metadata": {
  "kernelspec": {
   "display_name": "Python 3 (ipykernel)",
   "language": "python",
   "name": "python3"
  },
  "language_info": {
   "codemirror_mode": {
    "name": "ipython",
    "version": 3
   },
   "file_extension": ".py",
   "mimetype": "text/x-python",
   "name": "python",
   "nbconvert_exporter": "python",
   "pygments_lexer": "ipython3",
   "version": "3.11.7"
  }
 },
 "nbformat": 4,
 "nbformat_minor": 5
}
